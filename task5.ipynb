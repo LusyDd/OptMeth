{
 "cells": [
  {
   "cell_type": "markdown",
   "metadata": {},
   "source": [
    "# Совершить одну итерацию методом градиентного спуска\n",
    "\tf(x_1,x_2 )=x_1^2+2x_2^2+e^(x_1^2 )+(x_1+x_2+x_3 )^2,   x^0=(1,1,1)  , α=1"
   ]
  },
  {
   "cell_type": "code",
   "execution_count": 1,
   "metadata": {},
   "outputs": [
    {
     "name": "stdout",
     "output_type": "stream",
     "text": [
      "grad1 =  17.7916059676020\n",
      "grad2 =  6.37740172202223\n"
     ]
    }
   ],
   "source": [
    "from sympy import *\n",
    "import math\n",
    "\n",
    "x, y, z = symbols('x y z')\n",
    "a = diff(x**2 + 2 * y**2 + exp(x**2) + (x + y + z)**2, x)\n",
    "b = diff(x**2 + 2 * y**2 + exp(x**2) + (x + y + z)**2, y)\n",
    "c = diff(x**2 + 2 * y**2 + exp(x**2) + (x + y + z)**2, z)\n",
    "\n",
    "grad = (a**2+b**2+c**2)**(1/2)\n",
    "\n",
    "cosGradA = a/grad\n",
    "cosGradB = b/grad\n",
    "cosGradC = c/grad\n",
    "\n",
    "print('grad1 = ',grad.subs([(x, 1), (y, 1), (z, 1)]).evalf())\n",
    "\n",
    "l = 1 - cosGradA.subs([(x, 1), (y, 1), (z, 1)]).evalf()\n",
    "m = 1 - cosGradB.subs([(x, 1), (y, 1), (z, 1)]).evalf()\n",
    "n = 1 - cosGradC.subs([(x, 1), (y, 1), (z, 1)]).evalf()\n",
    "\n",
    "print('grad2 = ',grad.subs([(x, l), (y, m), (z, n)]).evalf())\n",
    "\n"
   ]
  },
  {
   "cell_type": "code",
   "execution_count": null,
   "metadata": {},
   "outputs": [],
   "source": []
  }
 ],
 "metadata": {
  "kernelspec": {
   "display_name": "Python 3",
   "language": "python",
   "name": "python3"
  },
  "language_info": {
   "codemirror_mode": {
    "name": "ipython",
    "version": 3
   },
   "file_extension": ".py",
   "mimetype": "text/x-python",
   "name": "python",
   "nbconvert_exporter": "python",
   "pygments_lexer": "ipython3",
   "version": "3.7.4"
  }
 },
 "nbformat": 4,
 "nbformat_minor": 2
}
