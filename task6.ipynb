{
 "cells": [
  {
   "cell_type": "markdown",
   "metadata": {},
   "source": [
    "6. Оптимизировать функцию методом наискорейшего спуска\n",
    "\n",
    "С точностью |(∂f(x^k))/(∂x_i )|≤0,01\n",
    "\n",
    "x_0=(1,1)\n",
    "\tf(x_1,x_2 )=x_1^2+x_2^2+2x_1 x_2+x_1\n"
   ]
  },
  {
   "cell_type": "code",
   "execution_count": 24,
   "metadata": {},
   "outputs": [],
   "source": [
    "from sympy import *\n",
    "import math\n",
    "import numpy as np"
   ]
  },
  {
   "cell_type": "code",
   "execution_count": 25,
   "metadata": {},
   "outputs": [],
   "source": [
    "func = lambda x, y: x**2+y**2+2*x*y+x            \n",
    "\n",
    "dxFunc = lambda x, y: 2*x + 2*y + 1\n",
    "\n",
    "dyFunc = lambda x, y: 2*y + 2*x\n",
    "\n",
    "dxFuncT = lambda x, y, t: x - t*dxFunc(x,y)\n",
    "\n",
    "dyFuncT = lambda x, y, t: y - t*dyFunc(x,y)\n",
    "\n",
    "funcT = lambda x, y, t: -2*x - 2*y + (-4*x - 4*y)*(-t*(2*x + 2*y) + y) + (-2*x - 2*y)*(-2*t*(2*x + 2*y + 1) + 2*x) + (-t*(2*x + 2*y) + y)*(-4*x - 4*y - 2) + (-t*(2*x + 2*y + 1) + x)*(-4*x - 4*y - 2) - 1\n",
    "\n",
    "x = 1\n",
    "y = 1\n",
    "i = 0\n",
    "e = 0.1\n",
    "\n",
    "gradMod = math.sqrt(dxFunc(x, y)**2+dyFunc(x, y)**2)\n",
    "\n",
    "t = symbols('t')\n",
    "t = solve(funcT(x ,y, t),t)\n",
    "t = float(t[0])"
   ]
  },
  {
   "cell_type": "code",
   "execution_count": 26,
   "metadata": {},
   "outputs": [
    {
     "name": "stdout",
     "output_type": "stream",
     "text": [
      "\n",
      "0.7114582486036499\n",
      "\n",
      "6.403124237432879\n",
      "\n",
      "0.7114582486036501\n",
      "\n",
      "6.403124237432629\n",
      "\n",
      "0.7114582486036013\n",
      "\n",
      "6.403124237468223\n",
      "\n",
      "0.7114582486036013\n",
      "\n",
      "6.403124237468263\n",
      "\n",
      "0.7114582486036013\n",
      "\n",
      "6.403124237468323\n",
      "Too many iterations\n"
     ]
    }
   ],
   "source": [
    "while gradMod > e:\n",
    "    a, b = x, y\n",
    "    x = dxFuncT(a, b, t)\n",
    "    y = dyFuncT(a, b, t)\n",
    "    gradMod = math.sqrt(dxFunc(x, y)**2+dyFunc(x, y)**2)\n",
    "    print()\n",
    "    print(gradMod)\n",
    "    t = symbols('t')\n",
    "    t = solve(funcT(x ,y, t),t)\n",
    "    t = float(t[0])\n",
    "    i += 1\n",
    "    if i == 10:\n",
    "        print('Too many iterations')\n",
    "        break"
   ]
  },
  {
   "cell_type": "code",
   "execution_count": null,
   "metadata": {},
   "outputs": [],
   "source": []
  },
  {
   "cell_type": "code",
   "execution_count": null,
   "metadata": {},
   "outputs": [],
   "source": []
  }
 ],
 "metadata": {
  "kernelspec": {
   "display_name": "Python 3",
   "language": "python",
   "name": "python3"
  },
  "language_info": {
   "codemirror_mode": {
    "name": "ipython",
    "version": 3
   },
   "file_extension": ".py",
   "mimetype": "text/x-python",
   "name": "python",
   "nbconvert_exporter": "python",
   "pygments_lexer": "ipython3",
   "version": "3.7.4"
  }
 },
 "nbformat": 4,
 "nbformat_minor": 2
}
